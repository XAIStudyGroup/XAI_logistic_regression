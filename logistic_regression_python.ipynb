{
 "cells": [
  {
   "cell_type": "code",
   "execution_count": 1,
   "id": "951ed33b",
   "metadata": {},
   "outputs": [],
   "source": [
    "from sklearn.linear_model import LogisticRegression\n",
    "import pandas as pd\n",
    "import os\n",
    "import numpy as np\n",
    "import statsmodels.api as sm"
   ]
  },
  {
   "cell_type": "code",
   "execution_count": 2,
   "id": "90c4c3bf",
   "metadata": {},
   "outputs": [],
   "source": [
    "# load data\n",
    "# download data from https://archive.ics.uci.edu/ml/machine-learning-databases/00383/\n",
    "# cervical cancer dataset\n",
    "# and the .csv file under your working directory\n",
    "\n",
    "filepath = os.getcwd()\n",
    "filename = os.path.join(filepath, \"risk_factors_cervical_cancer.csv\")"
   ]
  },
  {
   "cell_type": "code",
   "execution_count": 3,
   "id": "a321d2ad",
   "metadata": {},
   "outputs": [
    {
     "data": {
      "text/plain": [
       "Index(['Age', 'Number of sexual partners', 'First sexual intercourse',\n",
       "       'Num of pregnancies', 'Smokes', 'Smokes (years)', 'Smokes (packs/year)',\n",
       "       'Hormonal Contraceptives', 'Hormonal Contraceptives (years)', 'IUD',\n",
       "       'IUD (years)', 'STDs', 'STDs (number)', 'STDs:condylomatosis',\n",
       "       'STDs:cervical condylomatosis', 'STDs:vaginal condylomatosis',\n",
       "       'STDs:vulvo-perineal condylomatosis', 'STDs:syphilis',\n",
       "       'STDs:pelvic inflammatory disease', 'STDs:genital herpes',\n",
       "       'STDs:molluscum contagiosum', 'STDs:AIDS', 'STDs:HIV',\n",
       "       'STDs:Hepatitis B', 'STDs:HPV', 'STDs: Number of diagnosis',\n",
       "       'STDs: Time since first diagnosis', 'STDs: Time since last diagnosis',\n",
       "       'Dx:Cancer', 'Dx:CIN', 'Dx:HPV', 'Dx', 'Hinselmann', 'Schiller',\n",
       "       'Citology', 'Biopsy'],\n",
       "      dtype='object')"
      ]
     },
     "execution_count": 3,
     "metadata": {},
     "output_type": "execute_result"
    }
   ],
   "source": [
    "df = pd.read_csv(filename)\n",
    "df.columns # check columns"
   ]
  },
  {
   "cell_type": "code",
   "execution_count": 4,
   "id": "7290044e",
   "metadata": {},
   "outputs": [
    {
     "data": {
      "text/plain": [
       "(858, 36)"
      ]
     },
     "execution_count": 4,
     "metadata": {},
     "output_type": "execute_result"
    }
   ],
   "source": [
    "# check shape\n",
    "df.shape"
   ]
  },
  {
   "cell_type": "code",
   "execution_count": 5,
   "id": "0e4d47a7",
   "metadata": {},
   "outputs": [
    {
     "data": {
      "text/plain": [
       "array(['0.0', '1.0', '?'], dtype=object)"
      ]
     },
     "execution_count": 5,
     "metadata": {},
     "output_type": "execute_result"
    }
   ],
   "source": [
    "# check the data in each column\n",
    "df['Hormonal Contraceptives'].unique() # binary"
   ]
  },
  {
   "cell_type": "code",
   "execution_count": 6,
   "id": "617b7aa5",
   "metadata": {},
   "outputs": [
    {
     "data": {
      "text/plain": [
       "array(['0.0', '1.0', '?'], dtype=object)"
      ]
     },
     "execution_count": 6,
     "metadata": {},
     "output_type": "execute_result"
    }
   ],
   "source": [
    "df['Smokes'].unique() # binary"
   ]
  },
  {
   "cell_type": "code",
   "execution_count": 7,
   "id": "e4c5e5b6",
   "metadata": {},
   "outputs": [
    {
     "data": {
      "text/plain": [
       "array(['1.0', '4.0', '2.0', '6.0', '3.0', '5.0', '?', '8.0', '7.0', '0.0',\n",
       "       '11.0', '10.0'], dtype=object)"
      ]
     },
     "execution_count": 7,
     "metadata": {},
     "output_type": "execute_result"
    }
   ],
   "source": [
    "df['Num of pregnancies'].unique() # continous"
   ]
  },
  {
   "cell_type": "code",
   "execution_count": 8,
   "id": "3a87a81b",
   "metadata": {},
   "outputs": [
    {
     "data": {
      "text/plain": [
       "array(['0.0', '1.0', '?'], dtype=object)"
      ]
     },
     "execution_count": 8,
     "metadata": {},
     "output_type": "execute_result"
    }
   ],
   "source": [
    "df['IUD'].unique() # binary"
   ]
  },
  {
   "cell_type": "code",
   "execution_count": 9,
   "id": "6e7e2026",
   "metadata": {},
   "outputs": [
    {
     "data": {
      "text/plain": [
       "array([0, 1, 3, 2], dtype=int64)"
      ]
     },
     "execution_count": 9,
     "metadata": {},
     "output_type": "execute_result"
    }
   ],
   "source": [
    "df['STDs: Number of diagnosis'].unique() # continous"
   ]
  },
  {
   "cell_type": "code",
   "execution_count": 10,
   "id": "8aa481f1",
   "metadata": {},
   "outputs": [
    {
     "data": {
      "text/plain": [
       "(689, 37)"
      ]
     },
     "execution_count": 10,
     "metadata": {},
     "output_type": "execute_result"
    }
   ],
   "source": [
    "# clean all \"?\"\n",
    "df_clean = df.loc[df['Hormonal Contraceptives']!= '?', :]\n",
    "df_clean = df_clean.loc[df_clean['Smokes'] != '?',:]\n",
    "df_clean = df_clean.loc[df_clean['Num of pregnancies'] != '?',:]\n",
    "df_clean = df_clean.loc[df_clean['IUD']!= '?',:]\n",
    "df_clean = df_clean.loc[df_clean['STDs: Number of diagnosis'] != '?', :]\n",
    "df_clean['intercept'] = 1\n",
    "df_clean.shape"
   ]
  },
  {
   "cell_type": "code",
   "execution_count": 11,
   "id": "6951aab6",
   "metadata": {},
   "outputs": [],
   "source": [
    "# We will use the following features: Hormonal contraceptives (y/n), \n",
    "# Smokes(y/n), Num. of pregnancies, Num. of diagnosed STDs, and Intrauterine device (y/n)\n",
    "X = np.array(df_clean[['intercept','Hormonal Contraceptives', 'Smokes','Num of pregnancies','STDs: Number of diagnosis','IUD']],dtype=float)"
   ]
  },
  {
   "cell_type": "code",
   "execution_count": 12,
   "id": "b9491d89",
   "metadata": {},
   "outputs": [],
   "source": [
    "y = np.array(df_clean['Biopsy'],dtype=float)"
   ]
  },
  {
   "cell_type": "code",
   "execution_count": 13,
   "id": "393e4e9c",
   "metadata": {},
   "outputs": [],
   "source": [
    "clf = LogisticRegression(random_state=0).fit(X, y)"
   ]
  },
  {
   "cell_type": "code",
   "execution_count": 14,
   "id": "b3b2564f",
   "metadata": {},
   "outputs": [
    {
     "data": {
      "text/plain": [
       "array([[-1.31724857e-04,  5.29065636e-02,  2.70049974e-01,\n",
       "         6.66690574e-02,  7.68952491e-01,  5.66191829e-01]])"
      ]
     },
     "execution_count": 14,
     "metadata": {},
     "output_type": "execute_result"
    }
   ],
   "source": [
    "clf.coef_"
   ]
  },
  {
   "cell_type": "code",
   "execution_count": 15,
   "id": "26c7d367",
   "metadata": {},
   "outputs": [
    {
     "data": {
      "text/plain": [
       "array([-3.03391532])"
      ]
     },
     "execution_count": 15,
     "metadata": {},
     "output_type": "execute_result"
    }
   ],
   "source": [
    "clf.intercept_"
   ]
  },
  {
   "cell_type": "code",
   "execution_count": 21,
   "id": "6fc926d0",
   "metadata": {},
   "outputs": [
    {
     "name": "stdout",
     "output_type": "stream",
     "text": [
      "0.5661918289800142\n"
     ]
    }
   ],
   "source": [
    "print(clf.coef_[0,5])"
   ]
  },
  {
   "cell_type": "code",
   "execution_count": 22,
   "id": "3909dd37",
   "metadata": {},
   "outputs": [
    {
     "name": "stdout",
     "output_type": "stream",
     "text": [
      "Optimization terminated successfully.\n",
      "         Current function value: 0.241997\n",
      "         Iterations 7\n",
      "                           Logit Regression Results                           \n",
      "==============================================================================\n",
      "Dep. Variable:                      y   No. Observations:                  689\n",
      "Model:                          Logit   Df Residuals:                      683\n",
      "Method:                           MLE   Df Model:                            5\n",
      "Date:                Tue, 28 Dec 2021   Pseudo R-squ.:                 0.02811\n",
      "Time:                        10:58:13   Log-Likelihood:                -166.74\n",
      "converged:                       True   LL-Null:                       -171.56\n",
      "Covariance Type:            nonrobust   LLR p-value:                   0.08593\n",
      "==============================================================================\n",
      "                 coef    std err          z      P>|z|      [0.025      0.975]\n",
      "------------------------------------------------------------------------------\n",
      "const         -3.0657      0.357     -8.581      0.000      -3.766      -2.365\n",
      "x1             0.0642      0.325      0.197      0.844      -0.573       0.702\n",
      "x2             0.3123      0.399      0.783      0.433      -0.469       1.094\n",
      "x3             0.0598      0.102      0.587      0.557      -0.140       0.259\n",
      "x4             0.8592      0.348      2.466      0.014       0.176       1.542\n",
      "x5             0.6651      0.410      1.623      0.105      -0.138       1.468\n",
      "==============================================================================\n"
     ]
    }
   ],
   "source": [
    "# use statsmodels\n",
    "log_reg = sm.Logit(y, X).fit()\n",
    "print(log_reg.summary())"
   ]
  },
  {
   "cell_type": "code",
   "execution_count": null,
   "id": "b547ce5d",
   "metadata": {},
   "outputs": [],
   "source": []
  }
 ],
 "metadata": {
  "kernelspec": {
   "display_name": "Python 3",
   "language": "python",
   "name": "python3"
  },
  "language_info": {
   "codemirror_mode": {
    "name": "ipython",
    "version": 3
   },
   "file_extension": ".py",
   "mimetype": "text/x-python",
   "name": "python",
   "nbconvert_exporter": "python",
   "pygments_lexer": "ipython3",
   "version": "3.9.5"
  }
 },
 "nbformat": 4,
 "nbformat_minor": 5
}
